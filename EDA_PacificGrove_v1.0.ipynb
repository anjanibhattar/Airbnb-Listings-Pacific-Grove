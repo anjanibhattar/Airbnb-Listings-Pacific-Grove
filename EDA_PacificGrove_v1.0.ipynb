{
 "cells": [
  {
   "cell_type": "code",
   "execution_count": 1,
   "metadata": {},
   "outputs": [],
   "source": [
    "# Import libraries\n",
    "import pandas as pd\n",
    "import numpy as np"
   ]
  },
  {
   "cell_type": "code",
   "execution_count": 233,
   "metadata": {},
   "outputs": [],
   "source": [
    "# Import dataset from CSV into dataframe\n",
    "PG1 = pd.read_csv(r'C:\\Users\\anjan\\OneDrive\\Desktop\\My Summer Project\\Airbnb Cali listings\\Pacific_Grove_Listings.csv')"
   ]
  },
  {
   "cell_type": "code",
   "execution_count": 3,
   "metadata": {},
   "outputs": [],
   "source": [
    "# Import datasets from CSV into dataframes\n",
    "PG2 = pd.read_csv(r'C:\\Users\\anjan\\OneDrive\\Desktop\\My Summer Project\\Airbnb Cali listings\\Pacific_Grove_Reviews.csv')\n",
    "PG3 = pd.read_csv(r'C:\\Users\\anjan\\OneDrive\\Desktop\\My Summer Project\\Airbnb Cali listings\\Pacific_Grove_Calendar.csv')"
   ]
  },
  {
   "cell_type": "code",
   "execution_count": 4,
   "metadata": {},
   "outputs": [
    {
     "data": {
      "text/html": [
       "<div>\n",
       "<style scoped>\n",
       "    .dataframe tbody tr th:only-of-type {\n",
       "        vertical-align: middle;\n",
       "    }\n",
       "\n",
       "    .dataframe tbody tr th {\n",
       "        vertical-align: top;\n",
       "    }\n",
       "\n",
       "    .dataframe thead th {\n",
       "        text-align: right;\n",
       "    }\n",
       "</style>\n",
       "<table border=\"1\" class=\"dataframe\">\n",
       "  <thead>\n",
       "    <tr style=\"text-align: right;\">\n",
       "      <th></th>\n",
       "      <th>id</th>\n",
       "      <th>listing_url</th>\n",
       "      <th>scrape_id</th>\n",
       "      <th>last_scraped</th>\n",
       "      <th>name</th>\n",
       "      <th>summary</th>\n",
       "      <th>space</th>\n",
       "      <th>description</th>\n",
       "      <th>experiences_offered</th>\n",
       "      <th>neighborhood_overview</th>\n",
       "      <th>...</th>\n",
       "      <th>instant_bookable</th>\n",
       "      <th>is_business_travel_ready</th>\n",
       "      <th>cancellation_policy</th>\n",
       "      <th>require_guest_profile_picture</th>\n",
       "      <th>require_guest_phone_verification</th>\n",
       "      <th>calculated_host_listings_count</th>\n",
       "      <th>calculated_host_listings_count_entire_homes</th>\n",
       "      <th>calculated_host_listings_count_private_rooms</th>\n",
       "      <th>calculated_host_listings_count_shared_rooms</th>\n",
       "      <th>reviews_per_month</th>\n",
       "    </tr>\n",
       "  </thead>\n",
       "  <tbody>\n",
       "    <tr>\n",
       "      <th>0</th>\n",
       "      <td>22772</td>\n",
       "      <td>https://www.airbnb.com/rooms/22772</td>\n",
       "      <td>20190701035049</td>\n",
       "      <td>2019-07-01</td>\n",
       "      <td>Stay-Awhile  at Lovers Pt. Pacific Grv</td>\n",
       "      <td>NaN</td>\n",
       "      <td>Very charming and artistic little house locate...</td>\n",
       "      <td>Very charming and artistic little house locate...</td>\n",
       "      <td>none</td>\n",
       "      <td>NaN</td>\n",
       "      <td>...</td>\n",
       "      <td>f</td>\n",
       "      <td>f</td>\n",
       "      <td>strict_14_with_grace_period</td>\n",
       "      <td>f</td>\n",
       "      <td>t</td>\n",
       "      <td>1</td>\n",
       "      <td>1</td>\n",
       "      <td>0</td>\n",
       "      <td>0</td>\n",
       "      <td>0.61</td>\n",
       "    </tr>\n",
       "    <tr>\n",
       "      <th>1</th>\n",
       "      <td>41014</td>\n",
       "      <td>https://www.airbnb.com/rooms/41014</td>\n",
       "      <td>20190701035049</td>\n",
       "      <td>2019-07-01</td>\n",
       "      <td>Ocean front 6-bedroom masterpiece</td>\n",
       "      <td>In May 2015, Trip Advisor chose Pacific Grove ...</td>\n",
       "      <td>No need to fight over who gets the ocean view ...</td>\n",
       "      <td>In May 2015, Trip Advisor chose Pacific Grove ...</td>\n",
       "      <td>none</td>\n",
       "      <td>I call Pacific Grove \"Iowa with a Beach\".  It ...</td>\n",
       "      <td>...</td>\n",
       "      <td>f</td>\n",
       "      <td>f</td>\n",
       "      <td>strict_14_with_grace_period</td>\n",
       "      <td>f</td>\n",
       "      <td>t</td>\n",
       "      <td>1</td>\n",
       "      <td>1</td>\n",
       "      <td>0</td>\n",
       "      <td>0</td>\n",
       "      <td>0.90</td>\n",
       "    </tr>\n",
       "    <tr>\n",
       "      <th>2</th>\n",
       "      <td>44515</td>\n",
       "      <td>https://www.airbnb.com/rooms/44515</td>\n",
       "      <td>20190701035049</td>\n",
       "      <td>2019-07-01</td>\n",
       "      <td>Pet-Friendly* Cottage Near Beach (PG Lic#0090)</td>\n",
       "      <td>Our quaint, thoughtfully-stocked 300 sq ft cot...</td>\n",
       "      <td>Our 1 bed/1 bath, studio-style cottage is offe...</td>\n",
       "      <td>Our quaint, thoughtfully-stocked 300 sq ft cot...</td>\n",
       "      <td>none</td>\n",
       "      <td>Hands down, the best part about our 'hood is t...</td>\n",
       "      <td>...</td>\n",
       "      <td>t</td>\n",
       "      <td>f</td>\n",
       "      <td>moderate</td>\n",
       "      <td>f</td>\n",
       "      <td>f</td>\n",
       "      <td>1</td>\n",
       "      <td>1</td>\n",
       "      <td>0</td>\n",
       "      <td>0</td>\n",
       "      <td>7.80</td>\n",
       "    </tr>\n",
       "    <tr>\n",
       "      <th>3</th>\n",
       "      <td>89210</td>\n",
       "      <td>https://www.airbnb.com/rooms/89210</td>\n",
       "      <td>20190701035049</td>\n",
       "      <td>2019-07-01</td>\n",
       "      <td>CA Dreaming w/Ocean View, King Bed, Gardens</td>\n",
       "      <td>Wake to an ocean view from a King sized bed, w...</td>\n",
       "      <td>Welcome to California Dreaming Suite.  Wake up...</td>\n",
       "      <td>Wake to an ocean view from a King sized bed, w...</td>\n",
       "      <td>none</td>\n",
       "      <td>This is a safe, serene neighborhood with lots ...</td>\n",
       "      <td>...</td>\n",
       "      <td>f</td>\n",
       "      <td>f</td>\n",
       "      <td>strict_14_with_grace_period</td>\n",
       "      <td>f</td>\n",
       "      <td>f</td>\n",
       "      <td>1</td>\n",
       "      <td>1</td>\n",
       "      <td>0</td>\n",
       "      <td>0</td>\n",
       "      <td>9.60</td>\n",
       "    </tr>\n",
       "    <tr>\n",
       "      <th>4</th>\n",
       "      <td>1031734</td>\n",
       "      <td>https://www.airbnb.com/rooms/1031734</td>\n",
       "      <td>20190701035049</td>\n",
       "      <td>2019-07-01</td>\n",
       "      <td>Top Rated,Ocean View,Spa,Fireplace</td>\n",
       "      <td>I am a Superhost on Airbnb and have been for t...</td>\n",
       "      <td>City of Pacific Grove License #: (Phone number...</td>\n",
       "      <td>I am a Superhost on Airbnb and have been for t...</td>\n",
       "      <td>none</td>\n",
       "      <td>The neighborhood is quiet. I have wonderful, v...</td>\n",
       "      <td>...</td>\n",
       "      <td>f</td>\n",
       "      <td>f</td>\n",
       "      <td>strict_14_with_grace_period</td>\n",
       "      <td>f</td>\n",
       "      <td>f</td>\n",
       "      <td>1</td>\n",
       "      <td>1</td>\n",
       "      <td>0</td>\n",
       "      <td>0</td>\n",
       "      <td>2.61</td>\n",
       "    </tr>\n",
       "    <tr>\n",
       "      <th>5</th>\n",
       "      <td>1721177</td>\n",
       "      <td>https://www.airbnb.com/rooms/1721177</td>\n",
       "      <td>20190701035049</td>\n",
       "      <td>2019-07-01</td>\n",
       "      <td>Ocean View Townhome at Lover's Pt.</td>\n",
       "      <td>Breathtaking panoramic picture postcard views ...</td>\n",
       "      <td>Walk just one and a half blocks to all of Paci...</td>\n",
       "      <td>Breathtaking panoramic picture postcard views ...</td>\n",
       "      <td>none</td>\n",
       "      <td>NaN</td>\n",
       "      <td>...</td>\n",
       "      <td>f</td>\n",
       "      <td>f</td>\n",
       "      <td>strict_14_with_grace_period</td>\n",
       "      <td>f</td>\n",
       "      <td>f</td>\n",
       "      <td>2</td>\n",
       "      <td>2</td>\n",
       "      <td>0</td>\n",
       "      <td>0</td>\n",
       "      <td>3.51</td>\n",
       "    </tr>\n",
       "    <tr>\n",
       "      <th>6</th>\n",
       "      <td>1721186</td>\n",
       "      <td>https://www.airbnb.com/rooms/1721186</td>\n",
       "      <td>20190701035049</td>\n",
       "      <td>2019-07-01</td>\n",
       "      <td>Beautiful Villa With Ocean View</td>\n",
       "      <td>Undoubtedly one of Monterey Bay's hidden gems!...</td>\n",
       "      <td>Our home was professionally remodeled down to ...</td>\n",
       "      <td>Undoubtedly one of Monterey Bay's hidden gems!...</td>\n",
       "      <td>none</td>\n",
       "      <td>NaN</td>\n",
       "      <td>...</td>\n",
       "      <td>f</td>\n",
       "      <td>f</td>\n",
       "      <td>strict_14_with_grace_period</td>\n",
       "      <td>f</td>\n",
       "      <td>f</td>\n",
       "      <td>2</td>\n",
       "      <td>2</td>\n",
       "      <td>0</td>\n",
       "      <td>0</td>\n",
       "      <td>2.16</td>\n",
       "    </tr>\n",
       "    <tr>\n",
       "      <th>7</th>\n",
       "      <td>1856739</td>\n",
       "      <td>https://www.airbnb.com/rooms/1856739</td>\n",
       "      <td>20190701035049</td>\n",
       "      <td>2019-07-01</td>\n",
       "      <td>Vacation condo in Pacific Grove/Monterey, CA</td>\n",
       "      <td>Available: June 30 to July 7, 2017 Fully furni...</td>\n",
       "      <td>This is a timeshare resort, onsite management,...</td>\n",
       "      <td>Available: June 30 to July 7, 2017 Fully furni...</td>\n",
       "      <td>none</td>\n",
       "      <td>NaN</td>\n",
       "      <td>...</td>\n",
       "      <td>t</td>\n",
       "      <td>f</td>\n",
       "      <td>moderate</td>\n",
       "      <td>f</td>\n",
       "      <td>f</td>\n",
       "      <td>1</td>\n",
       "      <td>1</td>\n",
       "      <td>0</td>\n",
       "      <td>0</td>\n",
       "      <td>NaN</td>\n",
       "    </tr>\n",
       "    <tr>\n",
       "      <th>8</th>\n",
       "      <td>1909416</td>\n",
       "      <td>https://www.airbnb.com/rooms/1909416</td>\n",
       "      <td>20190701035049</td>\n",
       "      <td>2019-07-01</td>\n",
       "      <td>John Steinbeck's Cottage 30-Night Minimum Stay</td>\n",
       "      <td>'I bought a small house and garden in Pacific ...</td>\n",
       "      <td>This quaint and charming home, known as The St...</td>\n",
       "      <td>'I bought a small house and garden in Pacific ...</td>\n",
       "      <td>none</td>\n",
       "      <td>The property is in a quiet residential neighbo...</td>\n",
       "      <td>...</td>\n",
       "      <td>t</td>\n",
       "      <td>f</td>\n",
       "      <td>strict_14_with_grace_period</td>\n",
       "      <td>f</td>\n",
       "      <td>f</td>\n",
       "      <td>1</td>\n",
       "      <td>1</td>\n",
       "      <td>0</td>\n",
       "      <td>0</td>\n",
       "      <td>3.18</td>\n",
       "    </tr>\n",
       "    <tr>\n",
       "      <th>9</th>\n",
       "      <td>1918627</td>\n",
       "      <td>https://www.airbnb.com/rooms/1918627</td>\n",
       "      <td>20190701035049</td>\n",
       "      <td>2019-07-01</td>\n",
       "      <td>Pacific Grove Blue House, Walk to Town and Beach!</td>\n",
       "      <td>Do you want to experience the Monterey Peninsu...</td>\n",
       "      <td>Our cottage is cozy, warm and inviting.  It ha...</td>\n",
       "      <td>Do you want to experience the Monterey Peninsu...</td>\n",
       "      <td>none</td>\n",
       "      <td>Our home is perfectly situated to allow access...</td>\n",
       "      <td>...</td>\n",
       "      <td>f</td>\n",
       "      <td>f</td>\n",
       "      <td>strict_14_with_grace_period</td>\n",
       "      <td>f</td>\n",
       "      <td>f</td>\n",
       "      <td>1</td>\n",
       "      <td>1</td>\n",
       "      <td>0</td>\n",
       "      <td>0</td>\n",
       "      <td>6.52</td>\n",
       "    </tr>\n",
       "  </tbody>\n",
       "</table>\n",
       "<p>10 rows × 106 columns</p>\n",
       "</div>"
      ],
      "text/plain": [
       "        id                           listing_url       scrape_id last_scraped  \\\n",
       "0    22772    https://www.airbnb.com/rooms/22772  20190701035049   2019-07-01   \n",
       "1    41014    https://www.airbnb.com/rooms/41014  20190701035049   2019-07-01   \n",
       "2    44515    https://www.airbnb.com/rooms/44515  20190701035049   2019-07-01   \n",
       "3    89210    https://www.airbnb.com/rooms/89210  20190701035049   2019-07-01   \n",
       "4  1031734  https://www.airbnb.com/rooms/1031734  20190701035049   2019-07-01   \n",
       "5  1721177  https://www.airbnb.com/rooms/1721177  20190701035049   2019-07-01   \n",
       "6  1721186  https://www.airbnb.com/rooms/1721186  20190701035049   2019-07-01   \n",
       "7  1856739  https://www.airbnb.com/rooms/1856739  20190701035049   2019-07-01   \n",
       "8  1909416  https://www.airbnb.com/rooms/1909416  20190701035049   2019-07-01   \n",
       "9  1918627  https://www.airbnb.com/rooms/1918627  20190701035049   2019-07-01   \n",
       "\n",
       "                                                name  \\\n",
       "0             Stay-Awhile  at Lovers Pt. Pacific Grv   \n",
       "1                  Ocean front 6-bedroom masterpiece   \n",
       "2     Pet-Friendly* Cottage Near Beach (PG Lic#0090)   \n",
       "3        CA Dreaming w/Ocean View, King Bed, Gardens   \n",
       "4                 Top Rated,Ocean View,Spa,Fireplace   \n",
       "5                 Ocean View Townhome at Lover's Pt.   \n",
       "6                    Beautiful Villa With Ocean View   \n",
       "7       Vacation condo in Pacific Grove/Monterey, CA   \n",
       "8     John Steinbeck's Cottage 30-Night Minimum Stay   \n",
       "9  Pacific Grove Blue House, Walk to Town and Beach!   \n",
       "\n",
       "                                             summary  \\\n",
       "0                                                NaN   \n",
       "1  In May 2015, Trip Advisor chose Pacific Grove ...   \n",
       "2  Our quaint, thoughtfully-stocked 300 sq ft cot...   \n",
       "3  Wake to an ocean view from a King sized bed, w...   \n",
       "4  I am a Superhost on Airbnb and have been for t...   \n",
       "5  Breathtaking panoramic picture postcard views ...   \n",
       "6  Undoubtedly one of Monterey Bay's hidden gems!...   \n",
       "7  Available: June 30 to July 7, 2017 Fully furni...   \n",
       "8  'I bought a small house and garden in Pacific ...   \n",
       "9  Do you want to experience the Monterey Peninsu...   \n",
       "\n",
       "                                               space  \\\n",
       "0  Very charming and artistic little house locate...   \n",
       "1  No need to fight over who gets the ocean view ...   \n",
       "2  Our 1 bed/1 bath, studio-style cottage is offe...   \n",
       "3  Welcome to California Dreaming Suite.  Wake up...   \n",
       "4  City of Pacific Grove License #: (Phone number...   \n",
       "5  Walk just one and a half blocks to all of Paci...   \n",
       "6  Our home was professionally remodeled down to ...   \n",
       "7  This is a timeshare resort, onsite management,...   \n",
       "8  This quaint and charming home, known as The St...   \n",
       "9  Our cottage is cozy, warm and inviting.  It ha...   \n",
       "\n",
       "                                         description experiences_offered  \\\n",
       "0  Very charming and artistic little house locate...                none   \n",
       "1  In May 2015, Trip Advisor chose Pacific Grove ...                none   \n",
       "2  Our quaint, thoughtfully-stocked 300 sq ft cot...                none   \n",
       "3  Wake to an ocean view from a King sized bed, w...                none   \n",
       "4  I am a Superhost on Airbnb and have been for t...                none   \n",
       "5  Breathtaking panoramic picture postcard views ...                none   \n",
       "6  Undoubtedly one of Monterey Bay's hidden gems!...                none   \n",
       "7  Available: June 30 to July 7, 2017 Fully furni...                none   \n",
       "8  'I bought a small house and garden in Pacific ...                none   \n",
       "9  Do you want to experience the Monterey Peninsu...                none   \n",
       "\n",
       "                               neighborhood_overview  ... instant_bookable  \\\n",
       "0                                                NaN  ...                f   \n",
       "1  I call Pacific Grove \"Iowa with a Beach\".  It ...  ...                f   \n",
       "2  Hands down, the best part about our 'hood is t...  ...                t   \n",
       "3  This is a safe, serene neighborhood with lots ...  ...                f   \n",
       "4  The neighborhood is quiet. I have wonderful, v...  ...                f   \n",
       "5                                                NaN  ...                f   \n",
       "6                                                NaN  ...                f   \n",
       "7                                                NaN  ...                t   \n",
       "8  The property is in a quiet residential neighbo...  ...                t   \n",
       "9  Our home is perfectly situated to allow access...  ...                f   \n",
       "\n",
       "  is_business_travel_ready          cancellation_policy  \\\n",
       "0                        f  strict_14_with_grace_period   \n",
       "1                        f  strict_14_with_grace_period   \n",
       "2                        f                     moderate   \n",
       "3                        f  strict_14_with_grace_period   \n",
       "4                        f  strict_14_with_grace_period   \n",
       "5                        f  strict_14_with_grace_period   \n",
       "6                        f  strict_14_with_grace_period   \n",
       "7                        f                     moderate   \n",
       "8                        f  strict_14_with_grace_period   \n",
       "9                        f  strict_14_with_grace_period   \n",
       "\n",
       "  require_guest_profile_picture require_guest_phone_verification  \\\n",
       "0                             f                                t   \n",
       "1                             f                                t   \n",
       "2                             f                                f   \n",
       "3                             f                                f   \n",
       "4                             f                                f   \n",
       "5                             f                                f   \n",
       "6                             f                                f   \n",
       "7                             f                                f   \n",
       "8                             f                                f   \n",
       "9                             f                                f   \n",
       "\n",
       "   calculated_host_listings_count  \\\n",
       "0                               1   \n",
       "1                               1   \n",
       "2                               1   \n",
       "3                               1   \n",
       "4                               1   \n",
       "5                               2   \n",
       "6                               2   \n",
       "7                               1   \n",
       "8                               1   \n",
       "9                               1   \n",
       "\n",
       "   calculated_host_listings_count_entire_homes  \\\n",
       "0                                            1   \n",
       "1                                            1   \n",
       "2                                            1   \n",
       "3                                            1   \n",
       "4                                            1   \n",
       "5                                            2   \n",
       "6                                            2   \n",
       "7                                            1   \n",
       "8                                            1   \n",
       "9                                            1   \n",
       "\n",
       "  calculated_host_listings_count_private_rooms  \\\n",
       "0                                            0   \n",
       "1                                            0   \n",
       "2                                            0   \n",
       "3                                            0   \n",
       "4                                            0   \n",
       "5                                            0   \n",
       "6                                            0   \n",
       "7                                            0   \n",
       "8                                            0   \n",
       "9                                            0   \n",
       "\n",
       "   calculated_host_listings_count_shared_rooms  reviews_per_month  \n",
       "0                                            0               0.61  \n",
       "1                                            0               0.90  \n",
       "2                                            0               7.80  \n",
       "3                                            0               9.60  \n",
       "4                                            0               2.61  \n",
       "5                                            0               3.51  \n",
       "6                                            0               2.16  \n",
       "7                                            0                NaN  \n",
       "8                                            0               3.18  \n",
       "9                                            0               6.52  \n",
       "\n",
       "[10 rows x 106 columns]"
      ]
     },
     "execution_count": 4,
     "metadata": {},
     "output_type": "execute_result"
    }
   ],
   "source": [
    "# View first 10 rows of dataset\n",
    "PG1.head(10)"
   ]
  },
  {
   "cell_type": "code",
   "execution_count": 38,
   "metadata": {},
   "outputs": [
    {
     "data": {
      "text/plain": [
       "2"
      ]
     },
     "execution_count": 38,
     "metadata": {},
     "output_type": "execute_result"
    }
   ],
   "source": [
    "# View number of unique values in a column\n",
    "len(PG1.market.unique().tolist())"
   ]
  },
  {
   "cell_type": "code",
   "execution_count": 134,
   "metadata": {},
   "outputs": [
    {
     "data": {
      "text/plain": [
       "t    143\n",
       "f    101\n",
       "Name: is_location_exact, dtype: int64"
      ]
     },
     "execution_count": 134,
     "metadata": {},
     "output_type": "execute_result"
    }
   ],
   "source": [
    "# View frequency of each value in a column, including missing values\n",
    "PG1.is_location_exact.value_counts(dropna = False)"
   ]
  },
  {
   "cell_type": "code",
   "execution_count": 25,
   "metadata": {},
   "outputs": [
    {
     "data": {
      "text/plain": [
       "id                                              244\n",
       "listing_url                                     244\n",
       "scrape_id                                         1\n",
       "last_scraped                                      1\n",
       "name                                            244\n",
       "summary                                         230\n",
       "space                                           190\n",
       "description                                     240\n",
       "experiences_offered                               1\n",
       "neighborhood_overview                           127\n",
       "notes                                            99\n",
       "transit                                         106\n",
       "access                                          115\n",
       "interaction                                     123\n",
       "house_rules                                     132\n",
       "thumbnail_url                                     0\n",
       "medium_url                                        0\n",
       "picture_url                                     244\n",
       "xl_picture_url                                    0\n",
       "host_id                                         150\n",
       "host_url                                        150\n",
       "host_name                                       137\n",
       "host_since                                      145\n",
       "host_location                                    43\n",
       "host_about                                       98\n",
       "host_response_time                                4\n",
       "host_response_rate                               16\n",
       "host_acceptance_rate                              0\n",
       "host_is_superhost                                 2\n",
       "host_thumbnail_url                              150\n",
       "                                               ... \n",
       "has_availability                                  1\n",
       "availability_30                                  27\n",
       "availability_60                                  55\n",
       "availability_90                                  73\n",
       "availability_365                                158\n",
       "calendar_last_scraped                             1\n",
       "number_of_reviews                               106\n",
       "number_of_reviews_ltm                            75\n",
       "first_review                                    173\n",
       "last_review                                      87\n",
       "review_scores_rating                             16\n",
       "review_scores_accuracy                            3\n",
       "review_scores_cleanliness                         4\n",
       "review_scores_checkin                             3\n",
       "review_scores_communication                       4\n",
       "review_scores_location                            4\n",
       "review_scores_value                               6\n",
       "requires_license                                  1\n",
       "license                                           3\n",
       "jurisdiction_names                                1\n",
       "instant_bookable                                  2\n",
       "is_business_travel_ready                          1\n",
       "cancellation_policy                               5\n",
       "require_guest_profile_picture                     1\n",
       "require_guest_phone_verification                  2\n",
       "calculated_host_listings_count                    8\n",
       "calculated_host_listings_count_entire_homes       7\n",
       "calculated_host_listings_count_private_rooms      6\n",
       "calculated_host_listings_count_shared_rooms       1\n",
       "reviews_per_month                               159\n",
       "Name: unique, Length: 106, dtype: object"
      ]
     },
     "execution_count": 25,
     "metadata": {},
     "output_type": "execute_result"
    }
   ],
   "source": [
    "# Display unique values of all columns in the dataframe including dtype 'object'\n",
    "PG1.astype('object').describe(include='all').loc['unique', :]"
   ]
  },
  {
   "cell_type": "code",
   "execution_count": 234,
   "metadata": {},
   "outputs": [],
   "source": [
    "# Dropping columns with less than 2 unique values\n",
    "for col in PG1.columns:\n",
    "    if len(PG1[col].unique()) < 2:\n",
    "        PG1.drop(col, inplace = True, axis = 1)"
   ]
  },
  {
   "cell_type": "code",
   "execution_count": 235,
   "metadata": {},
   "outputs": [
    {
     "data": {
      "text/plain": [
       "85"
      ]
     },
     "execution_count": 235,
     "metadata": {},
     "output_type": "execute_result"
    }
   ],
   "source": [
    "# Check total number of columns after dropping above columns (106 - 21)\n",
    "len(PG1.columns)"
   ]
  },
  {
   "cell_type": "code",
   "execution_count": 37,
   "metadata": {},
   "outputs": [
    {
     "data": {
      "text/plain": [
       "id                                              244\n",
       "listing_url                                     244\n",
       "name                                            244\n",
       "summary                                         230\n",
       "space                                           190\n",
       "description                                     240\n",
       "neighborhood_overview                           127\n",
       "notes                                            99\n",
       "transit                                         106\n",
       "access                                          115\n",
       "interaction                                     123\n",
       "house_rules                                     132\n",
       "picture_url                                     244\n",
       "host_id                                         150\n",
       "host_url                                        150\n",
       "host_name                                       137\n",
       "host_since                                      145\n",
       "host_location                                    43\n",
       "host_about                                       98\n",
       "host_response_time                                4\n",
       "host_response_rate                               16\n",
       "host_is_superhost                                 2\n",
       "host_thumbnail_url                              150\n",
       "host_picture_url                                150\n",
       "host_neighbourhood                                8\n",
       "host_listings_count                              18\n",
       "host_total_listings_count                        18\n",
       "host_verifications                               46\n",
       "host_identity_verified                            2\n",
       "street                                            3\n",
       "city                                              3\n",
       "zipcode                                           3\n",
       "market                                            1\n",
       "smart_location                                    3\n",
       "latitude                                        228\n",
       "longitude                                       232\n",
       "is_location_exact                                 2\n",
       "property_type                                    12\n",
       "room_type                                         2\n",
       "accommodates                                     12\n",
       "bathrooms                                         9\n",
       "bedrooms                                          7\n",
       "beds                                             10\n",
       "amenities                                       211\n",
       "square_feet                                       2\n",
       "price                                           128\n",
       "weekly_price                                     20\n",
       "monthly_price                                    17\n",
       "security_deposit                                 25\n",
       "cleaning_fee                                     55\n",
       "guests_included                                  11\n",
       "extra_people                                     15\n",
       "minimum_nights                                   12\n",
       "maximum_nights                                   27\n",
       "minimum_minimum_nights                           12\n",
       "maximum_minimum_nights                           12\n",
       "minimum_maximum_nights                           27\n",
       "maximum_maximum_nights                           27\n",
       "minimum_nights_avg_ntm                           33\n",
       "maximum_nights_avg_ntm                           27\n",
       "calendar_updated                                 32\n",
       "availability_30                                  27\n",
       "availability_60                                  55\n",
       "availability_90                                  73\n",
       "availability_365                                158\n",
       "number_of_reviews                               106\n",
       "number_of_reviews_ltm                            75\n",
       "first_review                                    173\n",
       "last_review                                      87\n",
       "review_scores_rating                             16\n",
       "review_scores_accuracy                            3\n",
       "review_scores_cleanliness                         4\n",
       "review_scores_checkin                             3\n",
       "review_scores_communication                       4\n",
       "review_scores_location                            4\n",
       "review_scores_value                               6\n",
       "license                                           3\n",
       "jurisdiction_names                                1\n",
       "instant_bookable                                  2\n",
       "cancellation_policy                               5\n",
       "require_guest_phone_verification                  2\n",
       "calculated_host_listings_count                    8\n",
       "calculated_host_listings_count_entire_homes       7\n",
       "calculated_host_listings_count_private_rooms      6\n",
       "reviews_per_month                               159\n",
       "Name: unique, dtype: object"
      ]
     },
     "execution_count": 37,
     "metadata": {},
     "output_type": "execute_result"
    }
   ],
   "source": [
    "# Display unique values of all columns in the dataframe including dtype 'object'\n",
    "PG1.astype('object').describe(include='all').loc['unique', :]"
   ]
  },
  {
   "cell_type": "code",
   "execution_count": 210,
   "metadata": {},
   "outputs": [],
   "source": [
    "# Set dateframe to display maximum columns at all times\n",
    "pd.set_option('display.max_columns', 50)"
   ]
  },
  {
   "cell_type": "code",
   "execution_count": 80,
   "metadata": {},
   "outputs": [
    {
     "data": {
      "text/plain": [
       "array([ 0,  1, 12,  2,  4,  9], dtype=int64)"
      ]
     },
     "execution_count": 80,
     "metadata": {},
     "output_type": "execute_result"
    }
   ],
   "source": [
    "# Display unique values in a column\n",
    "PG1['calculated_host_listings_count_private_rooms'].unique()"
   ]
  },
  {
   "cell_type": "code",
   "execution_count": 236,
   "metadata": {},
   "outputs": [
    {
     "data": {
      "text/plain": [
       "id                                                int64\n",
       "listing_url                                      object\n",
       "name                                             object\n",
       "summary                                          object\n",
       "space                                            object\n",
       "description                                      object\n",
       "neighborhood_overview                            object\n",
       "notes                                            object\n",
       "transit                                          object\n",
       "access                                           object\n",
       "interaction                                      object\n",
       "house_rules                                      object\n",
       "picture_url                                      object\n",
       "host_id                                           int64\n",
       "host_url                                         object\n",
       "host_name                                        object\n",
       "host_since                                       object\n",
       "host_location                                    object\n",
       "host_about                                       object\n",
       "host_response_time                               object\n",
       "host_response_rate                               object\n",
       "host_is_superhost                                object\n",
       "host_thumbnail_url                               object\n",
       "host_picture_url                                 object\n",
       "host_neighbourhood                               object\n",
       "host_listings_count                               int64\n",
       "host_total_listings_count                         int64\n",
       "host_verifications                               object\n",
       "host_identity_verified                           object\n",
       "street                                           object\n",
       "city                                             object\n",
       "zipcode                                         float64\n",
       "market                                           object\n",
       "smart_location                                   object\n",
       "latitude                                        float64\n",
       "longitude                                       float64\n",
       "is_location_exact                                object\n",
       "property_type                                    object\n",
       "room_type                                        object\n",
       "accommodates                                      int64\n",
       "bathrooms                                       float64\n",
       "bedrooms                                          int64\n",
       "beds                                              int64\n",
       "amenities                                        object\n",
       "square_feet                                     float64\n",
       "price                                            object\n",
       "weekly_price                                     object\n",
       "monthly_price                                    object\n",
       "security_deposit                                 object\n",
       "cleaning_fee                                     object\n",
       "guests_included                                   int64\n",
       "extra_people                                     object\n",
       "minimum_nights                                    int64\n",
       "maximum_nights                                    int64\n",
       "minimum_minimum_nights                            int64\n",
       "maximum_minimum_nights                            int64\n",
       "minimum_maximum_nights                            int64\n",
       "maximum_maximum_nights                            int64\n",
       "minimum_nights_avg_ntm                          float64\n",
       "maximum_nights_avg_ntm                          float64\n",
       "calendar_updated                                 object\n",
       "availability_30                                   int64\n",
       "availability_60                                   int64\n",
       "availability_90                                   int64\n",
       "availability_365                                  int64\n",
       "number_of_reviews                                 int64\n",
       "number_of_reviews_ltm                             int64\n",
       "first_review                                     object\n",
       "last_review                                      object\n",
       "review_scores_rating                            float64\n",
       "review_scores_accuracy                          float64\n",
       "review_scores_cleanliness                       float64\n",
       "review_scores_checkin                           float64\n",
       "review_scores_communication                     float64\n",
       "review_scores_location                          float64\n",
       "review_scores_value                             float64\n",
       "license                                         float64\n",
       "jurisdiction_names                               object\n",
       "instant_bookable                                 object\n",
       "cancellation_policy                              object\n",
       "require_guest_phone_verification                 object\n",
       "calculated_host_listings_count                    int64\n",
       "calculated_host_listings_count_entire_homes       int64\n",
       "calculated_host_listings_count_private_rooms      int64\n",
       "reviews_per_month                               float64\n",
       "dtype: object"
      ]
     },
     "execution_count": 236,
     "metadata": {},
     "output_type": "execute_result"
    }
   ],
   "source": [
    "# Display datatype of each column in dataframe\n",
    "PG1.dtypes"
   ]
  },
  {
   "cell_type": "code",
   "execution_count": 41,
   "metadata": {},
   "outputs": [
    {
     "data": {
      "text/plain": [
       "id                                              244\n",
       "listing_url                                     244\n",
       "name                                            244\n",
       "summary                                         242\n",
       "space                                           200\n",
       "description                                     243\n",
       "neighborhood_overview                           198\n",
       "notes                                           133\n",
       "transit                                         130\n",
       "access                                          178\n",
       "interaction                                     178\n",
       "house_rules                                     176\n",
       "picture_url                                     244\n",
       "host_id                                         244\n",
       "host_url                                        244\n",
       "host_name                                       244\n",
       "host_since                                      244\n",
       "host_location                                   243\n",
       "host_about                                      176\n",
       "host_response_time                              218\n",
       "host_response_rate                              218\n",
       "host_is_superhost                               244\n",
       "host_thumbnail_url                              244\n",
       "host_picture_url                                244\n",
       "host_neighbourhood                               13\n",
       "host_listings_count                             244\n",
       "host_total_listings_count                       244\n",
       "host_verifications                              244\n",
       "host_identity_verified                          244\n",
       "street                                          244\n",
       "city                                            244\n",
       "zipcode                                         243\n",
       "market                                          243\n",
       "smart_location                                  244\n",
       "latitude                                        244\n",
       "longitude                                       244\n",
       "is_location_exact                               244\n",
       "property_type                                   244\n",
       "room_type                                       244\n",
       "accommodates                                    244\n",
       "bathrooms                                       244\n",
       "bedrooms                                        244\n",
       "beds                                            244\n",
       "amenities                                       244\n",
       "square_feet                                       2\n",
       "price                                           244\n",
       "weekly_price                                     25\n",
       "monthly_price                                    20\n",
       "security_deposit                                208\n",
       "cleaning_fee                                    221\n",
       "guests_included                                 244\n",
       "extra_people                                    244\n",
       "minimum_nights                                  244\n",
       "maximum_nights                                  244\n",
       "minimum_minimum_nights                          244\n",
       "maximum_minimum_nights                          244\n",
       "minimum_maximum_nights                          244\n",
       "maximum_maximum_nights                          244\n",
       "minimum_nights_avg_ntm                          244\n",
       "maximum_nights_avg_ntm                          244\n",
       "calendar_updated                                244\n",
       "availability_30                                 244\n",
       "availability_60                                 244\n",
       "availability_90                                 244\n",
       "availability_365                                244\n",
       "number_of_reviews                               244\n",
       "number_of_reviews_ltm                           244\n",
       "first_review                                    194\n",
       "last_review                                     194\n",
       "review_scores_rating                            191\n",
       "review_scores_accuracy                          191\n",
       "review_scores_cleanliness                       191\n",
       "review_scores_checkin                           191\n",
       "review_scores_communication                     191\n",
       "review_scores_location                          191\n",
       "review_scores_value                             191\n",
       "license                                           3\n",
       "jurisdiction_names                              231\n",
       "instant_bookable                                244\n",
       "cancellation_policy                             244\n",
       "require_guest_phone_verification                244\n",
       "calculated_host_listings_count                  244\n",
       "calculated_host_listings_count_entire_homes     244\n",
       "calculated_host_listings_count_private_rooms    244\n",
       "reviews_per_month                               194\n",
       "dtype: int64"
      ]
     },
     "execution_count": 41,
     "metadata": {},
     "output_type": "execute_result"
    }
   ],
   "source": [
    "# Display the count of total values in each column of dataframe\n",
    "PG1.count()"
   ]
  },
  {
   "cell_type": "code",
   "execution_count": 237,
   "metadata": {},
   "outputs": [],
   "source": [
    "# Drop columns from the dataframe in place\n",
    "# Columns with URLs and data provided by the host\n",
    "PG1 = PG1.drop(['listing_url', 'name', 'summary', 'space', 'description', 'neighborhood_overview', 'notes', 'transit',\n",
    "                'access', 'interaction', 'house_rules', 'picture_url', 'host_url', 'host_about', 'host_thumbnail_url', \n",
    "                'host_picture_url', 'host_neighbourhood', 'street', 'zipcode', 'market', 'smart_location', 'square_feet', \n",
    "                'weekly_price', 'monthly_price', 'license', 'jurisdiction_names'], axis = 1)\n",
    "\n",
    "# Columns with unclear definition\n",
    "PG1 = PG1.drop(['minimum_minimum_nights', 'minimum_maximum_nights', 'maximum_minimum_nights', 'maximum_maximum_nights',\n",
    "                'minimum_nights_avg_ntm', 'maximum_nights_avg_ntm'], axis = 1)\n",
    "PG1 = PG1.drop(['availability_30', 'availability_60', 'availability_90', 'availability_365', 'number_of_reviews_ltm',\n",
    "                'calculated_host_listings_count', 'calculated_host_listings_count_entire_homes',\n",
    "                'calculated_host_listings_count_private_rooms'], axis = 1)"
   ]
  },
  {
   "cell_type": "code",
   "execution_count": 238,
   "metadata": {},
   "outputs": [
    {
     "data": {
      "text/plain": [
       "45"
      ]
     },
     "execution_count": 238,
     "metadata": {},
     "output_type": "execute_result"
    }
   ],
   "source": [
    "# Display total number of columns in dataframe\n",
    "len(PG1.columns)"
   ]
  },
  {
   "cell_type": "code",
   "execution_count": 258,
   "metadata": {},
   "outputs": [],
   "source": [
    "# Convert datatype of 'host_since' from object to datetime64\n",
    "PG1['host_since'] = pd.to_datetime(PG1['host_since'])"
   ]
  },
  {
   "cell_type": "code",
   "execution_count": 230,
   "metadata": {},
   "outputs": [],
   "source": [
    "# Importing datetime library\n",
    "import datetime as dt"
   ]
  },
  {
   "cell_type": "code",
   "execution_count": 259,
   "metadata": {},
   "outputs": [],
   "source": [
    "# Extracting year from 'host_since'\n",
    "PG1['host_since_year'] = PG1['host_since'].dt.year"
   ]
  },
  {
   "cell_type": "code",
   "execution_count": 260,
   "metadata": {},
   "outputs": [],
   "source": [
    "# Extracting month from 'host_since'\n",
    "PG1['host_since_month'] = PG1['host_y'].dt.month"
   ]
  },
  {
   "cell_type": "code",
   "execution_count": 239,
   "metadata": {},
   "outputs": [],
   "source": [
    "# Split 'host_location' based on ',' into location, state and country \n",
    "PG1['host_location'] = PG1['host_location'].str.split(', ').str[0]\n",
    "PG1['host_state'] = PG1['host_location'].str.split(', ').str[1]\n",
    "PG1['host_country'] = PG1['host_location'].str.split(', ').str[2]"
   ]
  },
  {
   "cell_type": "code",
   "execution_count": 181,
   "metadata": {},
   "outputs": [
    {
     "data": {
      "text/plain": [
       "array(['Pacific Grove', 'San Jose', 'California', 'Menlo Park', 'Seaside',\n",
       "       'Mountain View', 'Monterey', 'Atherton', 'San Francisco', 'US',\n",
       "       'Carmel', 'Bay Area', 'Modesto', 'Big Sur',\n",
       "       'San Francisco Bay Area', 'Carmel Valley', 'Felton', 'Burlingame',\n",
       "       'Fresno', 'Corte Madera', 'Campbell', 'Oakhurst', 'Yorba Linda',\n",
       "       nan, 'Parks', 'Los Gatos', 'Pleasanton', 'Temple', 'Bologna',\n",
       "       'Truckee', 'Palo Alto', 'Walnut Creek', 'Santa Clara',\n",
       "       'Los Angeles', 'San Mateo', 'Carmel-by-the-Sea',\n",
       "       'Del Monte Forest', 'Sonoma', 'United States', 'Santa Clarita',\n",
       "       'Marina', 'El Dorado Hills'], dtype=object)"
      ]
     },
     "execution_count": 181,
     "metadata": {},
     "output_type": "execute_result"
    }
   ],
   "source": [
    "PG1.host_location.unique()"
   ]
  },
  {
   "cell_type": "code",
   "execution_count": 240,
   "metadata": {},
   "outputs": [],
   "source": [
    "# Replace all locations in California with 'California'\n",
    "PG1['host_location'] = PG1['host_location'].replace(['Pacific Grove', 'San Jose', 'California', 'Menlo Park', 'Seaside',\n",
    "                                                     'Mountain View', 'Monterey', 'Atherton', 'San Francisco', 'Carmel',\n",
    "                                                     'Bay Area', 'Modesto', 'Big Sur', 'San Francisco Bay Area',\n",
    "                                                     'Carmel Valley', 'Felton', 'Burlingame', 'Fresno', 'Corte Madera', \n",
    "                                                     'Campbell', 'Oakhurst', 'Yorba Linda', 'Los Gatos', 'Pleasanton',\n",
    "                                                     'Truckee', 'Palo Alto', 'Walnut Creek', 'Santa Clara', \n",
    "                                                     'Los Angeles', 'San Mateo', 'Carmel-by-the-Sea', 'Del Monte Forest',\n",
    "                                                     'Sonoma', 'Santa Clarita', 'Marina', 'El Dorado Hills'], 'California')"
   ]
  },
  {
   "cell_type": "code",
   "execution_count": 241,
   "metadata": {},
   "outputs": [],
   "source": [
    "# Replace values in Arizona, Texas and Italy \n",
    "PG1['host_location'] = PG1['host_location'].replace({'Parks':'Arizona', 'Temple':'Texas', 'Bologna':'International',\n",
    "                                                     'United States': 'US'})"
   ]
  },
  {
   "cell_type": "code",
   "execution_count": 242,
   "metadata": {},
   "outputs": [],
   "source": [
    "# Fill the 1 missing value with 'California' since the city value is 'Monterey'\n",
    "PG1['host_location'] = PG1['host_location'].fillna('California')"
   ]
  },
  {
   "cell_type": "code",
   "execution_count": 243,
   "metadata": {},
   "outputs": [
    {
     "data": {
      "text/plain": [
       "18     Pacific Grove\n",
       "39     Pacific Grove\n",
       "73     Pacific Grove\n",
       "81     Pacific Grove\n",
       "83     Pacific Grove\n",
       "87     Pacific Grove\n",
       "90     Pacific Grove\n",
       "95     Pacific Grove\n",
       "97     Pacific Grove\n",
       "157    Pacific Grove\n",
       "168         Monterey\n",
       "187    Pacific Grove\n",
       "194    Pacific Grove\n",
       "205    Pacific Grove\n",
       "212    Pacific Grove\n",
       "222    Pacific Grove\n",
       "223    Pacific Grove\n",
       "224         Monterey\n",
       "227    Pacific Grove\n",
       "228    Pacific Grove\n",
       "229    Pacific Grove\n",
       "230    Pacific Grove\n",
       "232    Pacific Grove\n",
       "233    Pacific Grove\n",
       "234    Pacific Grove\n",
       "235    Pacific Grove\n",
       "236    Pacific Grove\n",
       "237    Pacific Grove\n",
       "238    Pacific Grove\n",
       "239    Pacific Grove\n",
       "240    Pacific Grove\n",
       "241    Pacific Grove\n",
       "242         Monterey\n",
       "Name: city, dtype: object"
      ]
     },
     "execution_count": 243,
     "metadata": {},
     "output_type": "execute_result"
    }
   ],
   "source": [
    "# Check the 'city' value for all locations listed as 'US'. They are all from 'California'\n",
    "PG1.loc[PG1['host_location'] == 'US', 'city']"
   ]
  },
  {
   "cell_type": "code",
   "execution_count": 244,
   "metadata": {},
   "outputs": [],
   "source": [
    "# Replace the records with location as 'US' to 'California'\n",
    "PG1['host_location'] = PG1['host_location'].replace('US','California')"
   ]
  },
  {
   "cell_type": "code",
   "execution_count": 245,
   "metadata": {},
   "outputs": [
    {
     "data": {
      "text/plain": [
       "California       241\n",
       "International      1\n",
       "Texas              1\n",
       "Arizona            1\n",
       "Name: host_location, dtype: int64"
      ]
     },
     "execution_count": 245,
     "metadata": {},
     "output_type": "execute_result"
    }
   ],
   "source": [
    "PG1.host_location.value_counts(dropna = False)"
   ]
  },
  {
   "cell_type": "code",
   "execution_count": 246,
   "metadata": {},
   "outputs": [],
   "source": [
    "# Finally, map values to integers\n",
    "PG1.host_location = PG1['host_location'].map({'California': 0, 'International': 1, 'Texas': 2, 'Arizona': 3})"
   ]
  },
  {
   "cell_type": "code",
   "execution_count": 267,
   "metadata": {},
   "outputs": [],
   "source": [
    "# Import the random library\n",
    "import random"
   ]
  },
  {
   "cell_type": "code",
   "execution_count": 311,
   "metadata": {},
   "outputs": [],
   "source": [
    "# Replace values in 'host_response_time' with integers\n",
    "PG1['host_response_time'] = PG1['host_response_time'].replace({'within an hour': 0, 'within a few hours': 1,\n",
    "                                                               'within a day': 2, 'a few days or more': 3})"
   ]
  },
  {
   "cell_type": "code",
   "execution_count": 312,
   "metadata": {},
   "outputs": [
    {
     "data": {
      "text/plain": [
       "0.0    168\n",
       "1.0     33\n",
       "NaN     26\n",
       "2.0     12\n",
       "3.0      5\n",
       "Name: host_response_time, dtype: int64"
      ]
     },
     "execution_count": 312,
     "metadata": {},
     "output_type": "execute_result"
    }
   ],
   "source": [
    "# Check the frequency of each value in the 'host_response_time' column\n",
    "PG1['host_response_time'].value_counts(dropna = False)"
   ]
  },
  {
   "cell_type": "code",
   "execution_count": 313,
   "metadata": {},
   "outputs": [],
   "source": [
    "# Fill the missing 26 values with other values from the same column chosen randomly\n",
    "PG1['host_response_time'] = PG1['host_response_time'].fillna(pd.Series(np.random.choice(PG1['host_response_time'].notnull(),\n",
    "                                                                                        size = len(PG1.index))))"
   ]
  },
  {
   "cell_type": "code",
   "execution_count": 314,
   "metadata": {},
   "outputs": [
    {
     "data": {
      "text/plain": [
       "0.0    171\n",
       "1.0     56\n",
       "2.0     12\n",
       "3.0      5\n",
       "Name: host_response_time, dtype: int64"
      ]
     },
     "execution_count": 314,
     "metadata": {},
     "output_type": "execute_result"
    }
   ],
   "source": [
    "# Check the frequency of each value in the column after filling missing values randomly\n",
    "PG1['host_response_time'].value_counts(dropna = False)"
   ]
  },
  {
   "cell_type": "code",
   "execution_count": 315,
   "metadata": {},
   "outputs": [],
   "source": [
    "# Covert 'host_response_type' from float64 to int32\n",
    "PG1['host_response_time'] = PG1['host_response_time'].astype(int)"
   ]
  },
  {
   "cell_type": "code",
   "execution_count": null,
   "metadata": {},
   "outputs": [],
   "source": []
  }
 ],
 "metadata": {
  "kernelspec": {
   "display_name": "Python 3",
   "language": "python",
   "name": "python3"
  },
  "language_info": {
   "codemirror_mode": {
    "name": "ipython",
    "version": 3
   },
   "file_extension": ".py",
   "mimetype": "text/x-python",
   "name": "python",
   "nbconvert_exporter": "python",
   "pygments_lexer": "ipython3",
   "version": "3.7.3"
  }
 },
 "nbformat": 4,
 "nbformat_minor": 2
}
